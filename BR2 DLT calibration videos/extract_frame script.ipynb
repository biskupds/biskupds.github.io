{
 "cells": [
  {
   "cell_type": "code",
   "execution_count": 2,
   "id": "fb4ffe5e",
   "metadata": {},
   "outputs": [],
   "source": [
    "from extract_frame import *\n",
    "import cv2"
   ]
  },
  {
   "cell_type": "code",
   "execution_count": 9,
   "id": "6ceae22b",
   "metadata": {},
   "outputs": [],
   "source": [
    "video_file_path = r\"C:\\Users\\darren\\Desktop\\BR2 DLT calibration videos\\dlt-cam2.mov\"\n",
    "cam_num = 2\n",
    "\n",
    "x_pos = 14\n",
    "time_in_seconds = 101\n",
    "\n",
    "img = cv2.imread(extract_frame(video_file_path, time_in_seconds, cam_num, x_pos))\n",
    "cv2.imshow(f\"cam{cam_num}_x{x_pos}\", cv2.resize(img, (380, 560)))\n",
    "cv2.waitKey(0)\n",
    "cv2.destroyAllWindows()"
   ]
  }
 ],
 "metadata": {
  "kernelspec": {
   "display_name": "Python 3 (ipykernel)",
   "language": "python",
   "name": "python3"
  },
  "language_info": {
   "codemirror_mode": {
    "name": "ipython",
    "version": 3
   },
   "file_extension": ".py",
   "mimetype": "text/x-python",
   "name": "python",
   "nbconvert_exporter": "python",
   "pygments_lexer": "ipython3",
   "version": "3.11.3"
  }
 },
 "nbformat": 4,
 "nbformat_minor": 5
}
