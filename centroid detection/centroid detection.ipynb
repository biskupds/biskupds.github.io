{
 "cells": [
  {
   "attachments": {},
   "cell_type": "markdown",
   "id": "458ee9ca",
   "metadata": {},
   "source": [
    "# read in image data"
   ]
  },
  {
   "cell_type": "code",
   "execution_count": null,
   "id": "ab03a718",
   "metadata": {},
   "outputs": [],
   "source": [
    "import skimage.io\n",
    "\n",
    "image = skimage.io.imread(\"./image.jpg\")\n",
    "skimage.io.imshow(image)\n",
    "# skimage.io.show()"
   ]
  },
  {
   "attachments": {},
   "cell_type": "markdown",
   "id": "784f3479",
   "metadata": {},
   "source": [
    "# convert image to binary test"
   ]
  },
  {
   "cell_type": "code",
   "execution_count": null,
   "id": "dba32d26",
   "metadata": {},
   "outputs": [],
   "source": [
    "import matplotlib.pyplot as plt\n",
    "from skimage.color import rgb2hsv, label2rgb\n",
    "import numpy as np\n",
    "from detect_centroids import *\n",
    "from scipy import ndimage\n",
    "\n",
    "image = skimage.io.imread(\"./image.jpg\")\n",
    "\n",
    "# Convert the image to the HSV color space\n",
    "hsv_image = rgb2hsv(image)\n",
    "\n",
    "# Threshold the hue & sat channel to obtain binary image\n",
    "binary_image = image_to_binary(\"./image.jpg\", 122, 40, 20)\n",
    "# denoise image\n",
    "binary_image = morphology.opening(binary_image, morphology.square(3))\n",
    "# perform closing operation and eroding\n",
    "binary_image = ndimage.binary_closing(binary_image, np.ones((7, 7)))\n",
    "\n",
    "skimage.io.imshow(label2rgb(binary_image, image=image))\n",
    "\n",
    "labeled_image = label2rgb(binary_image, image=image)\n",
    "labeled_image = (labeled_image * 255).astype(np.uint8)\n",
    "skimage.io.imsave(\"testout.jpg\", labeled_image)"
   ]
  },
  {
   "attachments": {},
   "cell_type": "markdown",
   "id": "e60dad80",
   "metadata": {},
   "source": [
    "# calculate and display centroids of blobs test"
   ]
  },
  {
   "cell_type": "code",
   "execution_count": null,
   "id": "01321714",
   "metadata": {},
   "outputs": [],
   "source": [
    "from skimage.measure import label, regionprops\n",
    "import matplotlib.pyplot as plt\n",
    "from skimage import morphology\n",
    "from skimage.draw import circle_perimeter\n",
    "\n",
    "denoised_image = binary_image\n",
    "\n",
    "# scikit-image tool for collecting connected components\n",
    "label_im = label(denoised_image)\n",
    "region_data = regionprops(label_im)\n",
    "region_data = sorted(\n",
    "    region_data, key=lambda x: x.area, reverse=True\n",
    ")  # sorting regions based on area so that we grab the top 12 largest blobs\n",
    "\n",
    "rgb_image = binary_image_to_RGB(denoised_image)\n",
    "centroids = []\n",
    "for r in region_data[:8]:\n",
    "    centroids.append(r.centroid)\n",
    "    rr, cc = circle_perimeter(int(r.centroid[0]), int(r.centroid[1]), 5)\n",
    "    rgb_image[rr, cc, :] = (255, 0, 0)\n",
    "    rgb_image[int(r.centroid[0]), int(r.centroid[1])] = (255, 0, 0)\n",
    "\n",
    "skimage.io.imshow(rgb_image)\n",
    "skimage.io.imsave(\"draw_centroids.jpg\", rgb_image)\n"
   ]
  }
 ],
 "metadata": {
  "kernelspec": {
   "display_name": "Python 3 (ipykernel)",
   "language": "python",
   "name": "python3"
  },
  "language_info": {
   "codemirror_mode": {
    "name": "ipython",
    "version": 3
   },
   "file_extension": ".py",
   "mimetype": "text/x-python",
   "name": "python",
   "nbconvert_exporter": "python",
   "pygments_lexer": "ipython3",
   "version": "3.11.3"
  }
 },
 "nbformat": 4,
 "nbformat_minor": 5
}
