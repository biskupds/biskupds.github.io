{
 "cells": [
  {
   "cell_type": "code",
   "execution_count": 2,
   "id": "bae3ecd4",
   "metadata": {},
   "outputs": [],
   "source": [
    "import numpy as np\n",
    "import cv2 as cv\n",
    "import glob\n",
    "import csv\n",
    "import matplotlib.pyplot as plt"
   ]
  },
  {
   "attachments": {},
   "cell_type": "markdown",
   "id": "737ecb92",
   "metadata": {},
   "source": [
    "# Write frames as images"
   ]
  },
  {
   "cell_type": "code",
   "execution_count": 3,
   "id": "f6b572a6",
   "metadata": {},
   "outputs": [],
   "source": [
    "movienames = glob.glob('*.MOV')\n",
    "for i in range(len(movienames)):\n",
    "    cap = cv.VideoCapture(movienames[i])\n",
    "    if not cap.isOpened():\n",
    "        print(\"Error opening video file\")\n",
    "        exit()\n",
    "        \n",
    "    frame_number = 0\n",
    "    while cap.isOpened():\n",
    "        ret, frame = cap.read()\n",
    "        if not ret:\n",
    "            break\n",
    "        frame_number += 1\n",
    "        if frame_number % 60 == 0:\n",
    "            if not cv.imwrite(r\"C:\\Users\\darren\\Desktop\\BR2 Camera Calibration workspace\\frame\" + str(int(frame_number/60)) + \"cam\" + str(i+1)+ \".png\", frame):\n",
    "                print(\"image could not be saved.\")"
   ]
  },
  {
   "attachments": {},
   "cell_type": "markdown",
   "id": "8e822085",
   "metadata": {},
   "source": [
    "# Perform Calibration"
   ]
  },
  {
   "cell_type": "code",
   "execution_count": 3,
   "id": "8936b687",
   "metadata": {
    "scrolled": true
   },
   "outputs": [],
   "source": [
    "# termination criteria\n",
    "criteria = (cv.TERM_CRITERIA_EPS + cv.TERM_CRITERIA_MAX_ITER, 30, 0.001)\n",
    "\n",
    "# prepare object points, like (0,0,0), (1,0,0), (2,0,0) ....,(6,5,0)\n",
    "objp = np.zeros((7*9,3), np.float32)\n",
    "objp[:,:2] = np.mgrid[0:9,0:7].T.reshape(-1,2)\n",
    "# Arrays to store object points and image points from all the images.\n",
    "objpoints = [] # 3d point in real world space\n",
    "imgpoints = [] # 2d points in image plane.\n",
    "images = glob.glob('*cam1.png')\n",
    "for fname in images:\n",
    "    img = cv.imread(fname)\n",
    "    gray = cv.cvtColor(img, cv.COLOR_BGR2GRAY)\n",
    "    # Find the chess board corners\n",
    "    ret, corners = cv.findChessboardCorners(gray, (9,7), None)\n",
    "    # If found, add object points, image points (after refining them)\n",
    "    if ret == True:\n",
    "        objpoints.append(objp)\n",
    "        corners2 = cv.cornerSubPix(gray,corners, (11,11), (-1,-1), criteria)\n",
    "        imgpoints.append(corners2)\n",
    "        \n",
    "ret, mtx, dist, rvecs, tvecs = cv.calibrateCamera(objpoints, imgpoints, gray.shape[::-1], None, None)\n",
    "\n",
    "\n"
   ]
  },
  {
   "cell_type": "code",
   "execution_count": 13,
   "id": "90494409",
   "metadata": {},
   "outputs": [],
   "source": [
    "csv_file_path = r'C:\\Users\\darren\\Desktop\\BR2 Camera Calibration workspace\\csv\\6.17.23cam1.csv'\n",
    "\n",
    "with open(csv_file_path, mode='w', newline='') as file:\n",
    "    writer = csv.writer(file)\n",
    "    writer.writerows(mtx)\n",
    "    writer.writerows(dist)\n",
    "    for array in rvecs:\n",
    "        writer.writerow(array[:,0])\n",
    "    for array in tvecs:\n",
    "        writer.writerow(array[:,0])"
   ]
  },
  {
   "attachments": {},
   "cell_type": "markdown",
   "id": "0d94ec88",
   "metadata": {},
   "source": [
    "# Re-projection Error\n"
   ]
  },
  {
   "cell_type": "code",
   "execution_count": 14,
   "id": "be8395a1",
   "metadata": {},
   "outputs": [
    {
     "name": "stdout",
     "output_type": "stream",
     "text": [
      "total error: 0.04804185476324459\n"
     ]
    },
    {
     "data": {
      "image/png": "[encoded data removed]",
      "text/plain": [
       "<Figure size 640x480 with 1 Axes>"
      ]
     },
     "metadata": {},
     "output_type": "display_data"
    }
   ],
   "source": [
    "mean_error = 0\n",
    "data = []\n",
    "for i in range(len(objpoints)):\n",
    "    imgpoints2, _ = cv.projectPoints(objpoints[i], rvecs[i], tvecs[i], mtx, dist)\n",
    "    error = cv.norm(imgpoints[i], imgpoints2, cv.NORM_L2)/len(imgpoints2)\n",
    "    data.append(error*len(imgpoints2))\n",
    "    mean_error += error\n",
    "print( \"total error: {}\".format(mean_error/len(objpoints)) )\n",
    "\n",
    "plt.hist(data, bins='auto')\n",
    "plt.xlabel('distance in pixels')\n",
    "plt.ylabel('Frequency')\n",
    "plt.title('Histogram of distances between distorted and undistorted points')\n",
    "plt.show()"
   ]
  },
  {
   "cell_type": "code",
   "execution_count": 7,
   "id": "d25853df",
   "metadata": {},
   "outputs": [],
   "source": [
    "#testing code"
   ]
  },
  {
   "cell_type": "code",
   "execution_count": 6,
   "id": "9519bbf9",
   "metadata": {},
   "outputs": [],
   "source": [
    "import cv2\n",
    "\n",
    "frame = cv2.imread(\"./frame7cam1.png\")\n",
    "h, w = frame.shape[:2]\n",
    "newcameramtx, roi = cv2.getOptimalNewCameraMatrix(mtx, dist, (w,h), 1, (w,h))\n",
    "# undistort\n",
    "dst = cv2.undistort(frame, mtx, dist, None, newcameramtx)\n",
    "# crop the image\n",
    "x, y, w, h = roi\n",
    "dst = dst[y:y+h, x:x+w]\n",
    "\n",
    "cv2.imshow(\"degas\",dst)\n",
    "cv2.waitKey(0)\n",
    "cv2.destroyAllWindows()"
   ]
  },
  {
   "cell_type": "code",
   "execution_count": null,
   "id": "35d785fa",
   "metadata": {},
   "outputs": [],
   "source": []
  }
 ],
 "metadata": {
  "kernelspec": {
   "display_name": "Python 3 (ipykernel)",
   "language": "python",
   "name": "python3"
  },
  "language_info": {
   "codemirror_mode": {
    "name": "ipython",
    "version": 3
   },
   "file_extension": ".py",
   "mimetype": "text/x-python",
   "name": "python",
   "nbconvert_exporter": "python",
   "pygments_lexer": "ipython3",
   "version": "3.11.3"
  }
 },
 "nbformat": 4,
 "nbformat_minor": 5
}
